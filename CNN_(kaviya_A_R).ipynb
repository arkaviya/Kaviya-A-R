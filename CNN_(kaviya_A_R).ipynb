{
  "nbformat": 4,
  "nbformat_minor": 0,
  "metadata": {
    "colab": {
      "name": "CNN (kaviya A R).ipynb",
      "provenance": [],
      "collapsed_sections": [],
      "toc_visible": true
    },
    "kernelspec": {
      "name": "python3",
      "display_name": "Python 3"
    },
    "language_info": {
      "name": "python"
    }
  },
  "cells": [
    {
      "cell_type": "code",
      "metadata": {
        "id": "hRwThJDOEDLP"
      },
      "source": [
        "import tensorflow as tf\n",
        "\n",
        "from tensorflow import keras\n",
        "import numpy as np"
      ],
      "execution_count": null,
      "outputs": []
    },
    {
      "cell_type": "code",
      "metadata": {
        "id": "tSmNZjCfImRy"
      },
      "source": [
        "fashion anist-keras.datasets.fashion mist"
      ],
      "execution_count": null,
      "outputs": []
    },
    {
      "cell_type": "code",
      "metadata": {
        "id": "NyfGvrOuIeam"
      },
      "source": [
        " (train images, train_labels), (test images, test labels) fashion ist.load date()\n"
      ],
      "execution_count": null,
      "outputs": []
    },
    {
      "cell_type": "code",
      "metadata": {
        "id": "xZ3N7BaWJEn0"
      },
      "source": [
        "train_images train_images/255.0\n",
        "test images test_images/255.0"
      ],
      "execution_count": null,
      "outputs": []
    },
    {
      "cell_type": "code",
      "metadata": {
        "id": "bzto4kdzJnf6"
      },
      "source": [
        "[] train_images[0].shape\n",
        "(28, 28)"
      ],
      "execution_count": null,
      "outputs": []
    },
    {
      "cell_type": "code",
      "metadata": {
        "id": "sPmw_QctJylm"
      },
      "source": [
        "train_images train_images.reshape(len(train_images),28,28,1) \n",
        "test images= test images.reshape(len(test_images), 28,28,1)\n"
      ],
      "execution_count": null,
      "outputs": []
    },
    {
      "cell_type": "code",
      "metadata": {
        "id": "WR1b_dcNKB4o"
      },
      "source": [
        "def build_model(hp):\n",
        " model = keras.Sequential([\n",
        "   keras.layers.Conv2D(\n",
        "       filters=hp.Int(conv_1_filter', min value=32,max_values=128,step=16),\n",
        "       kernal_size=hp,choice('conv_1_kernal',values = [3,5]),\n",
        "       activation='relu',\n",
        "       input_shape=(20,28,1)\n",
        "   ),\n",
        "   keras.layers.com2D()\n",
        "       filter=hp.Int('conv_2_filter', min value-31, max value 64, step-10),\n",
        "       kernel_size=hp,choice('conv_2_kernel',values (5,5]), \n",
        "       activation='relu'\n",
        "   ),\n",
        "   keras.layers.Flatten(),\n",
        "   keras.layers.Dense(\n",
        "       units-hp.Int( denie 1 units, min_value-37, max_value-120, step-16),\n",
        "       activation='relu'\n",
        "   ),\n",
        "   keras.layers.dense(10,activation='softmax')output lejer\n",
        "  })\n",
        " model.compile(optimizer-keras.optimizers.Adan(hp.Choice('learning rate',values=[1e-2,1e3}]),\n",
        "             loss'sparse categorical_crossentropy',\n",
        "             metrics=['accuracy'])\n",
        "return model\n"
      ],
      "execution_count": null,
      "outputs": []
    },
    {
      "cell_type": "code",
      "metadata": {
        "id": "8842RqceUdW0"
      },
      "source": [
        "from kerastuner import randomsearch\n",
        "from kerastuner.engine.hyperparameters inport HyperParameters"
      ],
      "execution_count": null,
      "outputs": []
    },
    {
      "cell_type": "code",
      "metadata": {
        "id": "yzr9QdLgVb4u"
      },
      "source": [
        "tuner_search=randomsearch(build_model,\n",
        "                          objective='val_accuracy',\n",
        "                          max_trials=5,directory='output',proect_name=\"mnist fashion\")"
      ],
      "execution_count": null,
      "outputs": []
    },
    {
      "cell_type": "code",
      "metadata": {
        "id": "kSNaC04LWnXo"
      },
      "source": [
        "model=tuner_search.get_best_model(num_models=1)[0]"
      ],
      "execution_count": null,
      "outputs": []
    },
    {
      "cell_type": "code",
      "metadata": {
        "id": "ZwJjF4RDXtkP"
      },
      "source": [
        "model.summary()\n",
        "model:\"sequential\"\n",
        "[]"
      ],
      "execution_count": null,
      "outputs": []
    }
  ]
}